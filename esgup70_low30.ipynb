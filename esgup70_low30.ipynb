{
 "cells": [
  {
   "cell_type": "code",
   "execution_count": 1,
   "id": "e57086cf-84e9-41c8-9887-f91f6f42df71",
   "metadata": {},
   "outputs": [],
   "source": [
    "import refinitiv.data as rd\n",
    "import numpy as np\n",
    "import pandas as pd\n",
    "import matplotlib as plt\n",
    "import warnings\n",
    "import plotly.graph_objects as go\n",
    "import time\n",
    "warnings.filterwarnings(\"ignore\")\n",
    "%matplotlib inline"
   ]
  },
  {
   "cell_type": "code",
   "execution_count": 2,
   "id": "52ce6aa5-23f7-43e5-a7aa-b94e66f2c7f7",
   "metadata": {},
   "outputs": [
    {
     "data": {
      "text/plain": [
       "<refinitiv.data.session.Definition object at 0x7f7c52145730 {name='codebook'}>"
      ]
     },
     "execution_count": 2,
     "metadata": {},
     "output_type": "execute_result"
    }
   ],
   "source": [
    "rd.open_session()"
   ]
  },
  {
   "cell_type": "code",
   "execution_count": 3,
   "id": "e0570e58-d7fe-4bf6-85af-82006344c0fc",
   "metadata": {},
   "outputs": [],
   "source": [
    "# which index is used as a basis of comparison\n",
    "index = '.SPX'\n",
    "# what is the time range for the backtesting \n",
    "start_year = 2014\n",
    "end_year = 2023\n",
    "# what is the company's  minimum ESG Score (0-100) for the high ESG subset\n",
    "ESG_score_threshold_upper = 70\n",
    "\n",
    "ESG_score_threshold_lower = 30"
   ]
  },
  {
   "cell_type": "code",
   "execution_count": 4,
   "id": "b7261558-6864-433a-a5d1-06676d8d941a",
   "metadata": {},
   "outputs": [
    {
     "data": {
      "text/html": [
       "<div>\n",
       "<style scoped>\n",
       "    .dataframe tbody tr th:only-of-type {\n",
       "        vertical-align: middle;\n",
       "    }\n",
       "\n",
       "    .dataframe tbody tr th {\n",
       "        vertical-align: top;\n",
       "    }\n",
       "\n",
       "    .dataframe thead th {\n",
       "        text-align: right;\n",
       "    }\n",
       "</style>\n",
       "<table border=\"1\" class=\"dataframe\">\n",
       "  <thead>\n",
       "    <tr style=\"text-align: right;\">\n",
       "      <th></th>\n",
       "      <th>Instrument</th>\n",
       "      <th>Date</th>\n",
       "      <th>Price Close</th>\n",
       "      <th>Rebased</th>\n",
       "    </tr>\n",
       "  </thead>\n",
       "  <tbody>\n",
       "    <tr>\n",
       "      <th>0</th>\n",
       "      <td>.SPX</td>\n",
       "      <td>2014-03-31</td>\n",
       "      <td>1872.34</td>\n",
       "      <td>100.0</td>\n",
       "    </tr>\n",
       "    <tr>\n",
       "      <th>1</th>\n",
       "      <td>.SPX</td>\n",
       "      <td>2014-06-30</td>\n",
       "      <td>1960.23</td>\n",
       "      <td>104.694126</td>\n",
       "    </tr>\n",
       "    <tr>\n",
       "      <th>2</th>\n",
       "      <td>.SPX</td>\n",
       "      <td>2014-09-30</td>\n",
       "      <td>1972.29</td>\n",
       "      <td>105.33824</td>\n",
       "    </tr>\n",
       "    <tr>\n",
       "      <th>3</th>\n",
       "      <td>.SPX</td>\n",
       "      <td>2014-12-31</td>\n",
       "      <td>2058.9</td>\n",
       "      <td>109.964002</td>\n",
       "    </tr>\n",
       "    <tr>\n",
       "      <th>4</th>\n",
       "      <td>.SPX</td>\n",
       "      <td>2015-03-31</td>\n",
       "      <td>2067.89</td>\n",
       "      <td>110.44415</td>\n",
       "    </tr>\n",
       "  </tbody>\n",
       "</table>\n",
       "</div>"
      ],
      "text/plain": [
       "  Instrument       Date  Price Close     Rebased\n",
       "0       .SPX 2014-03-31      1872.34       100.0\n",
       "1       .SPX 2014-06-30      1960.23  104.694126\n",
       "2       .SPX 2014-09-30      1972.29   105.33824\n",
       "3       .SPX 2014-12-31       2058.9  109.964002\n",
       "4       .SPX 2015-03-31      2067.89   110.44415"
      ]
     },
     "execution_count": 4,
     "metadata": {},
     "output_type": "execute_result"
    }
   ],
   "source": [
    "sp = rd.get_data(\n",
    "    index, \n",
    "    fields=['TR.PriceClose.date', 'TR.PriceClose'],\n",
    "    parameters={\n",
    "        'SDate': '{}-01-01'.format(start_year),\n",
    "        'EDate': '{}-01-01'.format(end_year),\n",
    "        'Frq': 'CQ'  # Daily frequency\n",
    "    }\n",
    ")\n",
    "\n",
    "sp['Rebased'] = sp['Price Close'] * 100 / sp['Price Close'][0]\n",
    "sp.head()"
   ]
  },
  {
   "cell_type": "code",
   "execution_count": 5,
   "id": "9908dc08-58a0-4f01-b2cb-dc6c2e221a53",
   "metadata": {},
   "outputs": [],
   "source": [
    "def getSubset(dFrame, low_high):\n",
    "    # filter out the companies with low ESG score at the begining year\n",
    "    if low_high == \"low\":\n",
    "        dFrame = dFrame.loc[\n",
    "            (dFrame['ESG Combined Score'] < ESG_score_threshold_lower) \n",
    "        ]\n",
    "    elif low_high == \"high\":\n",
    "        dFrame = dFrame.loc[\n",
    "            (dFrame['ESG Combined Score'] > ESG_score_threshold_upper)\n",
    "        ]\n",
    "    return dFrame['Instrument'].tolist()"
   ]
  },
  {
   "cell_type": "code",
   "execution_count": 8,
   "id": "f1285139-5e8b-4575-bcbe-8ab555e6c552",
   "metadata": {},
   "outputs": [],
   "source": [
    "def getDataForYear(year, low_high):\n",
    "    print(f'Getting data for: {year}')\n",
    "    # get index constituents at the begining year\n",
    "    df = rd.get_data('{}{}({}-01-01)'.format('0#', index, year), fields=['TR.TRESGCScore'], parameters={'SDate': '{}-01-01'.format(year), 'Period': 'FY0'})\n",
    "    # filter out the instruments based on ESG ratings\n",
    "    subset = getSubset(df, low_high)\n",
    "    # get the performance data for this subset\n",
    "    df2 = rd.get_data(subset, fields=['TR.PriceClose.date', 'TR.PriceClose'], parameters={'SDate': '{}-01-01'.format(year), 'EDate': '{}-01-01'.format(year + 1), 'Frq':'CQ'})\n",
    "    df2 = df2.dropna()\n",
    "    # consolidate the price data for instruments\n",
    "    alphaList = []\n",
    "    ser = df2['Date'].value_counts()\n",
    "    for x in ser[ser > 5].index:\n",
    "        ser = df2.loc[df2['Date'] == x].sum(numeric_only=True)\n",
    "        alphaList.append({'Date': x, 'Price Close': ser['Price Close']})\n",
    "    return pd.DataFrame(alphaList)\n"
   ]
  },
  {
   "cell_type": "code",
   "execution_count": 9,
   "id": "83ace826-6a48-4ac6-9728-6e199fc6e15d",
   "metadata": {},
   "outputs": [
    {
     "name": "stdout",
     "output_type": "stream",
     "text": [
      "Getting data for: 2014\n",
      "Getting data for: 2015\n",
      "Getting data for: 2016\n",
      "Getting data for: 2017\n",
      "Getting data for: 2018\n",
      "Getting data for: 2019\n",
      "Getting data for: 2020\n",
      "Getting data for: 2021\n",
      "Getting data for: 2022\n"
     ]
    }
   ],
   "source": [
    "df_high = pd.DataFrame()\n",
    "for x in range(start_year, end_year):\n",
    "    ret = getDataForYear(x, \"high\")\n",
    "    df_high = pd.concat([df_high, ret])\n",
    "    time.sleep(3)\n",
    "df_high = df_high.sort_values(by=['Date'])\n",
    "df_high = df_high.reset_index(drop=True)\n",
    "df_high['Rebased'] = df_high['Price Close'] * 100 / df_high['Price Close'][0]\n",
    "df_high.head()\n",
    "df_high.to_csv('Combined_ESG_Score_high70.csv', index=False)"
   ]
  },
  {
   "cell_type": "code",
   "execution_count": 10,
   "id": "a244edb2-3ac8-459e-a951-c44c641dc315",
   "metadata": {},
   "outputs": [
    {
     "name": "stdout",
     "output_type": "stream",
     "text": [
      "Getting data for: 2014\n",
      "Getting data for: 2015\n",
      "Getting data for: 2016\n",
      "Getting data for: 2017\n",
      "Getting data for: 2018\n",
      "Getting data for: 2019\n",
      "Getting data for: 2020\n",
      "Getting data for: 2021\n",
      "Getting data for: 2022\n"
     ]
    }
   ],
   "source": [
    "df_low = pd.DataFrame()\n",
    "for x in range(start_year, end_year):\n",
    "    ret = getDataForYear(x, \"low\")\n",
    "    df_low = pd.concat([df_low, ret])\n",
    "    time.sleep(3)\n",
    "df_low = df_low.sort_values(by=['Date'])\n",
    "df_low = df_low.reset_index(drop=True)\n",
    "df_low['Rebased'] = df_low['Price Close'] * 100 / df_low['Price Close'][0]\n",
    "df_low.head()\n",
    "df_low.to_csv('Combined_ESG_Score_low30.csv', index=False)"
   ]
  },
  {
   "cell_type": "code",
   "execution_count": null,
   "id": "cc647af4-f42c-4283-a714-f2ca934fd618",
   "metadata": {},
   "outputs": [],
   "source": [
    "# plot the graphs together\n",
    "res = [go.Scatter(x=df_high['Date'], y=df_high['Rebased'], name=f'ESG Combined Score > {ESG_score_threshold}%', mode='lines'),\n",
    "        go.Scatter(x=sp['Date'], y=sp['Rebased'], name='S&P 500', mode='lines')]\n",
    "\n",
    "lay1 = {'shapes': [\n",
    "        {'type': 'line','x0': '{}-01-01'.format(start_year),'y0': 100, 'x1':'{}-01-01'.format(end_year),'y1': 100,'line': {'width': 1, 'color': 'white'},}\n",
    "    ],\n",
    "    'showlegend': True\n",
    "}\n",
    "\n",
    "lay2 = {\n",
    "    'paper_bgcolor': 'rgba(0,0,0,0)',\n",
    "    'plot_bgcolor': 'rgba(0,0,0,0)'\n",
    "}\n",
    "\n",
    "lay3 = {\n",
    "    'title': f'Relative perfomance of high ESG score vs Index, for the last {end_year - start_year} years',\n",
    "    'font': {\n",
    "        'size': 14,\n",
    "        'color': 'white'\n",
    "    }\n",
    "}\n",
    "\n",
    "fig = go.Figure(data=res)\n",
    "fig.update_xaxes(showgrid=False, gridwidth=1, gridcolor='darkgrey')\n",
    "fig.update_yaxes(showgrid=False, gridwidth=1, gridcolor='darkgrey')\n",
    "fig.update_layout(lay1)\n",
    "fig.update_layout(lay2)\n",
    "fig.update_layout(lay3)\n",
    "fig.show()"
   ]
  }
 ],
 "metadata": {
  "kernelspec": {
   "display_name": "Python 3",
   "language": "python",
   "name": "python3"
  },
  "language_info": {
   "codemirror_mode": {
    "name": "ipython",
    "version": 3
   },
   "file_extension": ".py",
   "mimetype": "text/x-python",
   "name": "python",
   "nbconvert_exporter": "python",
   "pygments_lexer": "ipython3",
   "version": "3.8.15"
  },
  "widgets": {
   "application/vnd.jupyter.widget-state+json": {
    "state": {},
    "version_major": 2,
    "version_minor": 0
   }
  }
 },
 "nbformat": 4,
 "nbformat_minor": 5
}
