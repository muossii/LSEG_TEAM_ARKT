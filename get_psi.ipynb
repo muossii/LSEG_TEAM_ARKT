{
 "cells": [
  {
   "cell_type": "code",
   "execution_count": 1,
   "id": "5f0dda70-6892-460e-ab60-849c6fdecb62",
   "metadata": {},
   "outputs": [
    {
     "data": {
      "text/plain": [
       "<refinitiv.data.session.Definition object at 0x7f692f073a30 {name='codebook'}>"
      ]
     },
     "execution_count": 1,
     "metadata": {},
     "output_type": "execute_result"
    }
   ],
   "source": [
    "import refinitiv.data as rd\n",
    "import numpy as np\n",
    "import pandas as pd\n",
    "import matplotlib as plt\n",
    "import warnings\n",
    "warnings.filterwarnings(\"ignore\")\n",
    "%matplotlib inline\n",
    "import time\n",
    "rd.open_session()"
   ]
  },
  {
   "cell_type": "code",
   "execution_count": 2,
   "id": "e7d579de-64b4-44bd-a9c6-5268a4205789",
   "metadata": {},
   "outputs": [],
   "source": [
    "ESG_score_high = 70\n",
    "ESG_score_low = 30\n",
    "start_year = 2014\n",
    "end_year = 2024\n",
    "index = '.PSI'\n",
    "\n"
   ]
  },
  {
   "cell_type": "code",
   "execution_count": 4,
   "id": "14f581b5-8840-4d0f-986a-d517a4b7d09e",
   "metadata": {},
   "outputs": [],
   "source": [
    "psi = rd.get_data(index, fields=['TR.CLOSEPRICE.date', 'TR.CLOSEPRICE'], parameters={'SDate': '{}-01-01'.format(start_year), 'EDate': '{}-01-01'.format(end_year), 'Frq':'CQ'})"
   ]
  },
  {
   "cell_type": "code",
   "execution_count": 5,
   "id": "094eabe3-3f2a-4c9e-8733-27bf6abb2370",
   "metadata": {},
   "outputs": [
    {
     "data": {
      "text/html": [
       "<div>\n",
       "<style scoped>\n",
       "    .dataframe tbody tr th:only-of-type {\n",
       "        vertical-align: middle;\n",
       "    }\n",
       "\n",
       "    .dataframe tbody tr th {\n",
       "        vertical-align: top;\n",
       "    }\n",
       "\n",
       "    .dataframe thead th {\n",
       "        text-align: right;\n",
       "    }\n",
       "</style>\n",
       "<table border=\"1\" class=\"dataframe\">\n",
       "  <thead>\n",
       "    <tr style=\"text-align: right;\">\n",
       "      <th></th>\n",
       "      <th>Instrument</th>\n",
       "      <th>Date</th>\n",
       "      <th>Close Price</th>\n",
       "      <th>Rebased</th>\n",
       "    </tr>\n",
       "  </thead>\n",
       "  <tbody>\n",
       "    <tr>\n",
       "      <th>0</th>\n",
       "      <td>.PSI</td>\n",
       "      <td>2014-03-31</td>\n",
       "      <td>6428.71</td>\n",
       "      <td>100.0</td>\n",
       "    </tr>\n",
       "    <tr>\n",
       "      <th>1</th>\n",
       "      <td>.PSI</td>\n",
       "      <td>2014-06-30</td>\n",
       "      <td>6844.31</td>\n",
       "      <td>106.46475</td>\n",
       "    </tr>\n",
       "    <tr>\n",
       "      <th>2</th>\n",
       "      <td>.PSI</td>\n",
       "      <td>2014-09-30</td>\n",
       "      <td>7283.07</td>\n",
       "      <td>113.289758</td>\n",
       "    </tr>\n",
       "    <tr>\n",
       "      <th>3</th>\n",
       "      <td>.PSI</td>\n",
       "      <td>2014-12-29</td>\n",
       "      <td>7230.57</td>\n",
       "      <td>112.473109</td>\n",
       "    </tr>\n",
       "    <tr>\n",
       "      <th>4</th>\n",
       "      <td>.PSI</td>\n",
       "      <td>2015-03-31</td>\n",
       "      <td>7940.49</td>\n",
       "      <td>123.516071</td>\n",
       "    </tr>\n",
       "  </tbody>\n",
       "</table>\n",
       "</div>"
      ],
      "text/plain": [
       "  Instrument       Date  Close Price     Rebased\n",
       "0       .PSI 2014-03-31      6428.71       100.0\n",
       "1       .PSI 2014-06-30      6844.31   106.46475\n",
       "2       .PSI 2014-09-30      7283.07  113.289758\n",
       "3       .PSI 2014-12-29      7230.57  112.473109\n",
       "4       .PSI 2015-03-31      7940.49  123.516071"
      ]
     },
     "execution_count": 5,
     "metadata": {},
     "output_type": "execute_result"
    }
   ],
   "source": [
    "psi['Rebased'] = psi['Close Price'] * 100 / psi['Close Price'][0]\n",
    "psi.head()"
   ]
  },
  {
   "cell_type": "code",
   "execution_count": 6,
   "id": "2e604c07-d28b-4a7f-a384-b28db4560d9a",
   "metadata": {},
   "outputs": [],
   "source": [
    "def getSubset(dFrame, esgpos):\n",
    "    # filter out the companies with low ESG score at the begining year\n",
    "    if esgpos == \"High\":\n",
    "        dFrame = dFrame[dFrame['ESG Combined Score'] > ESG_score_high]\n",
    "        \n",
    "    elif esgpos == \"Low\":\n",
    "        dFrame = dFrame[dFrame['ESG Combined Score'] > ESG_score_high]\n",
    "        \n",
    "    return dFrame['Instrument'].tolist()"
   ]
  },
  {
   "cell_type": "code",
   "execution_count": 7,
   "id": "edffcd05-1e93-4b6b-ba0e-600b31bb32b2",
   "metadata": {},
   "outputs": [],
   "source": [
    "def getDataForYear(year, esgpos):\n",
    "    print(f'Getting data for: {year}')\n",
    "    # get index constituents at the begining year\n",
    "    df = rd.get_data('{}{}({}-01-01)'.format('0#', index, year), fields=['TR.TRESGCScore'], parameters={'SDate': '{}-01-01'.format(year), 'Period': 'FY0'})\n",
    "    # filter out the instruments based on ESG ratings\n",
    "    subset = getSubset(df, esgpos)\n",
    "    # get the performance data for this subset\n",
    "    df2 = rd.get_data(subset, fields=['TR.CLOSEPRICE.date', 'TR.CLOSEPRICE'], parameters={'SDate': '{}-01-01'.format(year), 'EDate': '{}-01-01'.format(year + 1), 'Frq':'CQ'})\n",
    "    df2 = df2.dropna()\n",
    "    # consolidate the price data for instruments\n",
    "    alphaList = []\n",
    "    ser = df2['Date'].value_counts()\n",
    "    for x in ser[ser > 5].index:\n",
    "        ser = df2.loc[df2['Date'] == x].sum(numeric_only=True)\n",
    "        alphaList.append({'Date': x, 'Close Price': ser['Close Price']})\n",
    "    return pd.DataFrame(alphaList)\n"
   ]
  },
  {
   "cell_type": "code",
   "execution_count": 19,
   "id": "937398a5-fd2e-43e0-bcb3-c5621bf1da7b",
   "metadata": {},
   "outputs": [
    {
     "name": "stdout",
     "output_type": "stream",
     "text": [
      "Getting data for: 2014\n"
     ]
    },
    {
     "ename": "RDError",
     "evalue": "Error code -1 | Backend error. 400 Bad Request Requested universes: ['0#.PSI(2014-01-01)']. Requested fields: ['TR.TRESGCSCORE']",
     "output_type": "error",
     "traceback": [
      "\u001b[0;31m---------------------------------------------------------------------------\u001b[0m",
      "\u001b[0;31mRDError\u001b[0m                                   Traceback (most recent call last)",
      "\u001b[0;32m/tmp/ipykernel_622/1122257560.py\u001b[0m in \u001b[0;36m<module>\u001b[0;34m\u001b[0m\n\u001b[1;32m      1\u001b[0m \u001b[0mdf_high\u001b[0m \u001b[0;34m=\u001b[0m \u001b[0mpd\u001b[0m\u001b[0;34m.\u001b[0m\u001b[0mDataFrame\u001b[0m\u001b[0;34m(\u001b[0m\u001b[0;34m)\u001b[0m\u001b[0;34m\u001b[0m\u001b[0;34m\u001b[0m\u001b[0m\n\u001b[1;32m      2\u001b[0m \u001b[0;32mfor\u001b[0m \u001b[0mx\u001b[0m \u001b[0;32min\u001b[0m \u001b[0mrange\u001b[0m\u001b[0;34m(\u001b[0m\u001b[0mstart_year\u001b[0m\u001b[0;34m,\u001b[0m \u001b[0mend_year\u001b[0m\u001b[0;34m)\u001b[0m\u001b[0;34m:\u001b[0m\u001b[0;34m\u001b[0m\u001b[0;34m\u001b[0m\u001b[0m\n\u001b[0;32m----> 3\u001b[0;31m     \u001b[0mret\u001b[0m \u001b[0;34m=\u001b[0m \u001b[0mgetDataForYear\u001b[0m\u001b[0;34m(\u001b[0m\u001b[0mx\u001b[0m\u001b[0;34m,\u001b[0m \u001b[0;34m\"High\"\u001b[0m\u001b[0;34m)\u001b[0m\u001b[0;34m\u001b[0m\u001b[0;34m\u001b[0m\u001b[0m\n\u001b[0m\u001b[1;32m      4\u001b[0m     \u001b[0mdf_high\u001b[0m \u001b[0;34m=\u001b[0m \u001b[0mpd\u001b[0m\u001b[0;34m.\u001b[0m\u001b[0mconcat\u001b[0m\u001b[0;34m(\u001b[0m\u001b[0;34m[\u001b[0m\u001b[0mdf_high\u001b[0m\u001b[0;34m,\u001b[0m \u001b[0mret\u001b[0m\u001b[0;34m]\u001b[0m\u001b[0;34m)\u001b[0m\u001b[0;34m\u001b[0m\u001b[0;34m\u001b[0m\u001b[0m\n\u001b[1;32m      5\u001b[0m     \u001b[0mtime\u001b[0m\u001b[0;34m.\u001b[0m\u001b[0msleep\u001b[0m\u001b[0;34m(\u001b[0m\u001b[0;36m3\u001b[0m\u001b[0;34m)\u001b[0m\u001b[0;34m\u001b[0m\u001b[0;34m\u001b[0m\u001b[0m\n",
      "\u001b[0;32m/tmp/ipykernel_622/762881641.py\u001b[0m in \u001b[0;36mgetDataForYear\u001b[0;34m(year, esgpos)\u001b[0m\n\u001b[1;32m      2\u001b[0m     \u001b[0mprint\u001b[0m\u001b[0;34m(\u001b[0m\u001b[0;34mf'Getting data for: {year}'\u001b[0m\u001b[0;34m)\u001b[0m\u001b[0;34m\u001b[0m\u001b[0;34m\u001b[0m\u001b[0m\n\u001b[1;32m      3\u001b[0m     \u001b[0;31m# get index constituents at the begining year\u001b[0m\u001b[0;34m\u001b[0m\u001b[0;34m\u001b[0m\u001b[0;34m\u001b[0m\u001b[0m\n\u001b[0;32m----> 4\u001b[0;31m     \u001b[0mdf\u001b[0m \u001b[0;34m=\u001b[0m \u001b[0mrd\u001b[0m\u001b[0;34m.\u001b[0m\u001b[0mget_data\u001b[0m\u001b[0;34m(\u001b[0m\u001b[0;34m'{}{}({}-01-01)'\u001b[0m\u001b[0;34m.\u001b[0m\u001b[0mformat\u001b[0m\u001b[0;34m(\u001b[0m\u001b[0;34m'0#'\u001b[0m\u001b[0;34m,\u001b[0m \u001b[0mindex\u001b[0m\u001b[0;34m,\u001b[0m \u001b[0myear\u001b[0m\u001b[0;34m)\u001b[0m\u001b[0;34m,\u001b[0m \u001b[0mfields\u001b[0m\u001b[0;34m=\u001b[0m\u001b[0;34m[\u001b[0m\u001b[0;34m'TR.TRESGCScore'\u001b[0m\u001b[0;34m]\u001b[0m\u001b[0;34m,\u001b[0m \u001b[0mparameters\u001b[0m\u001b[0;34m=\u001b[0m\u001b[0;34m{\u001b[0m\u001b[0;34m'SDate'\u001b[0m\u001b[0;34m:\u001b[0m \u001b[0;34m'{}-01-01'\u001b[0m\u001b[0;34m.\u001b[0m\u001b[0mformat\u001b[0m\u001b[0;34m(\u001b[0m\u001b[0myear\u001b[0m\u001b[0;34m)\u001b[0m\u001b[0;34m,\u001b[0m \u001b[0;34m'Period'\u001b[0m\u001b[0;34m:\u001b[0m \u001b[0;34m'FY0'\u001b[0m\u001b[0;34m}\u001b[0m\u001b[0;34m)\u001b[0m\u001b[0;34m\u001b[0m\u001b[0;34m\u001b[0m\u001b[0m\n\u001b[0m\u001b[1;32m      5\u001b[0m     \u001b[0;31m# filter out the instruments based on ESG ratings\u001b[0m\u001b[0;34m\u001b[0m\u001b[0;34m\u001b[0m\u001b[0;34m\u001b[0m\u001b[0m\n\u001b[1;32m      6\u001b[0m     \u001b[0msubset\u001b[0m \u001b[0;34m=\u001b[0m \u001b[0mgetSubset\u001b[0m\u001b[0;34m(\u001b[0m\u001b[0mdf\u001b[0m\u001b[0;34m,\u001b[0m \u001b[0mesgpos\u001b[0m\u001b[0;34m)\u001b[0m\u001b[0;34m\u001b[0m\u001b[0;34m\u001b[0m\u001b[0m\n",
      "\u001b[0;32m/opt/conda/lib/python3.8/site-packages/refinitiv/data/_access_layer/get_data_func.py\u001b[0m in \u001b[0;36mget_data\u001b[0;34m(universe, fields, parameters, use_field_names_in_headers)\u001b[0m\n\u001b[1;32m    124\u001b[0m     \u001b[0;32mif\u001b[0m \u001b[0mexceptions\u001b[0m \u001b[0;32mand\u001b[0m \u001b[0mall\u001b[0m\u001b[0;34m(\u001b[0m\u001b[0mexceptions\u001b[0m\u001b[0;34m)\u001b[0m\u001b[0;34m:\u001b[0m\u001b[0;34m\u001b[0m\u001b[0;34m\u001b[0m\u001b[0m\n\u001b[1;32m    125\u001b[0m         \u001b[0mexcept_msg\u001b[0m \u001b[0;34m=\u001b[0m \u001b[0;34m\"\\n\\n\"\u001b[0m\u001b[0;34m.\u001b[0m\u001b[0mjoin\u001b[0m\u001b[0;34m(\u001b[0m\u001b[0mexceptions\u001b[0m\u001b[0;34m)\u001b[0m\u001b[0;34m\u001b[0m\u001b[0;34m\u001b[0m\u001b[0m\n\u001b[0;32m--> 126\u001b[0;31m         \u001b[0;32mraise\u001b[0m \u001b[0mRDError\u001b[0m\u001b[0;34m(\u001b[0m\u001b[0;34m-\u001b[0m\u001b[0;36m1\u001b[0m\u001b[0;34m,\u001b[0m \u001b[0mexcept_msg\u001b[0m\u001b[0;34m)\u001b[0m\u001b[0;34m\u001b[0m\u001b[0;34m\u001b[0m\u001b[0m\n\u001b[0m\u001b[1;32m    127\u001b[0m \u001b[0;34m\u001b[0m\u001b[0m\n\u001b[1;32m    128\u001b[0m     \u001b[0mhp_and_cust_inst_data\u001b[0m \u001b[0;34m=\u001b[0m \u001b[0mHPAndCustInstDataContainer\u001b[0m\u001b[0;34m(\u001b[0m\u001b[0mstream_columns\u001b[0m\u001b[0;34m,\u001b[0m \u001b[0mstream_data\u001b[0m\u001b[0;34m,\u001b[0m \u001b[0mstream_df\u001b[0m\u001b[0;34m)\u001b[0m\u001b[0;34m\u001b[0m\u001b[0;34m\u001b[0m\u001b[0m\n",
      "\u001b[0;31mRDError\u001b[0m: Error code -1 | Backend error. 400 Bad Request Requested universes: ['0#.PSI(2014-01-01)']. Requested fields: ['TR.TRESGCSCORE']"
     ]
    }
   ],
   "source": [
    "df_high = pd.DataFrame()\n",
    "for x in range(start_year, end_year):\n",
    "    ret = getDataForYear(x, \"High\")\n",
    "    df_high = pd.concat([df_high, ret])\n",
    "    time.sleep(3)\n",
    "df_high = df_high.sort_values(by=['Date'])\n",
    "df_high = df_high.reset_index(drop=True)"
   ]
  },
  {
   "cell_type": "code",
   "execution_count": null,
   "id": "76baf82a-17a4-400b-b466-d86e3e59d1c7",
   "metadata": {},
   "outputs": [],
   "source": [
    "df_high['Rebased'] = df_high['Close Price'] * 100 / df_high['Close Price'][0]\n",
    "df_high.head()"
   ]
  },
  {
   "cell_type": "code",
   "execution_count": null,
   "id": "93b650de-7b6d-4ec8-be6e-9883a1bb6aa4",
   "metadata": {},
   "outputs": [],
   "source": [
    "df_high"
   ]
  },
  {
   "cell_type": "code",
   "execution_count": null,
   "id": "6b9fa286-4623-4a38-bdd8-1505b33f2736",
   "metadata": {},
   "outputs": [],
   "source": [
    "df_low = pd.DataFrame()\n",
    "for x in range(start_year, end_year):\n",
    "    ret = getDataForYear(x, \"Low\")\n",
    "    df_low = pd.concat([df_low, ret])\n",
    "    time.sleep(3)\n",
    "df_low = df_low.sort_values(by=['Date'])\n",
    "df_low = df_low.reset_index(drop=True)\n",
    "df_low['Rebased'] = df_low['Close Price'] * 100 / df_low['Close Price'][0]\n",
    "df_low.head()"
   ]
  },
  {
   "cell_type": "code",
   "execution_count": null,
   "id": "dd4ac6b3-85fb-455c-ab29-ce823688cea1",
   "metadata": {},
   "outputs": [],
   "source": [
    "psi.JOIN([df_high, df_low], on = \"Date\", how = \"Inner\")"
   ]
  },
  {
   "cell_type": "code",
   "execution_count": null,
   "id": "1b2587e8-362d-4384-9091-22cb6fbb4493",
   "metadata": {},
   "outputs": [],
   "source": []
  }
 ],
 "metadata": {
  "kernelspec": {
   "display_name": "Python 3",
   "language": "python",
   "name": "python3"
  },
  "language_info": {
   "codemirror_mode": {
    "name": "ipython",
    "version": 3
   },
   "file_extension": ".py",
   "mimetype": "text/x-python",
   "name": "python",
   "nbconvert_exporter": "python",
   "pygments_lexer": "ipython3",
   "version": "3.8.15"
  },
  "widgets": {
   "application/vnd.jupyter.widget-state+json": {
    "state": {},
    "version_major": 2,
    "version_minor": 0
   }
  }
 },
 "nbformat": 4,
 "nbformat_minor": 5
}
